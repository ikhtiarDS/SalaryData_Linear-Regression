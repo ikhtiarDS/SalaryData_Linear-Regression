{
 "cells": [
  {
   "cell_type": "code",
   "execution_count": 1,
   "metadata": {},
   "outputs": [],
   "source": [
    "import pandas as pd \n",
    "import numpy as np\n",
    "import math\n",
    "import datetime\n",
    "from datetime import date\n",
    "from sklearn.preprocessing import StandardScaler \n",
    "from sklearn.linear_model  import Ridge,Lasso,RidgeCV, LassoCV, ElasticNet, ElasticNetCV, LinearRegression\n",
    "from sklearn.model_selection import train_test_split\n",
    "from sklearn import preprocessing\n",
    "import statsmodels.api as sm \n",
    "import matplotlib.pyplot as plt\n",
    "import seaborn as sns\n",
    "sns.set()"
   ]
  },
  {
   "cell_type": "code",
   "execution_count": 2,
   "metadata": {},
   "outputs": [],
   "source": [
    "def adj_r2(x,y):\n",
    "    r2 = regression.score(x,y)\n",
    "    n = x.shape[0]\n",
    "    p = x.shape[1]\n",
    "    adjusted_r2 = 1-(1-r2)*(n-1)/(n-p-1)\n",
    "    return adjusted_r2"
   ]
  },
  {
   "cell_type": "code",
   "execution_count": 3,
   "metadata": {},
   "outputs": [
    {
     "data": {
      "text/html": [
       "<div>\n",
       "<style scoped>\n",
       "    .dataframe tbody tr th:only-of-type {\n",
       "        vertical-align: middle;\n",
       "    }\n",
       "\n",
       "    .dataframe tbody tr th {\n",
       "        vertical-align: top;\n",
       "    }\n",
       "\n",
       "    .dataframe thead th {\n",
       "        text-align: right;\n",
       "    }\n",
       "</style>\n",
       "<table border=\"1\" class=\"dataframe\">\n",
       "  <thead>\n",
       "    <tr style=\"text-align: right;\">\n",
       "      <th></th>\n",
       "      <th>SalaryDataID</th>\n",
       "      <th>CalendarYear</th>\n",
       "      <th>EmployeeName</th>\n",
       "      <th>Department</th>\n",
       "      <th>JobTitle</th>\n",
       "      <th>AnnualRate</th>\n",
       "      <th>RegularRate</th>\n",
       "      <th>OvertimeRate</th>\n",
       "      <th>IncentiveAllowance</th>\n",
       "      <th>Other</th>\n",
       "      <th>YearToDate</th>\n",
       "    </tr>\n",
       "  </thead>\n",
       "  <tbody>\n",
       "    <tr>\n",
       "      <th>0</th>\n",
       "      <td>1</td>\n",
       "      <td>2010</td>\n",
       "      <td>Watson, Stanley</td>\n",
       "      <td>Metro Corrections</td>\n",
       "      <td>Corrections Officer</td>\n",
       "      <td>43929.6</td>\n",
       "      <td>43919.04</td>\n",
       "      <td>1488.96</td>\n",
       "      <td>0.0</td>\n",
       "      <td>0.00</td>\n",
       "      <td>45408.00</td>\n",
       "    </tr>\n",
       "    <tr>\n",
       "      <th>1</th>\n",
       "      <td>2</td>\n",
       "      <td>2010</td>\n",
       "      <td>Harris, Larry</td>\n",
       "      <td>Metro Corrections</td>\n",
       "      <td>Corrections Officer</td>\n",
       "      <td>40435.2</td>\n",
       "      <td>40901.76</td>\n",
       "      <td>4096.98</td>\n",
       "      <td>0.0</td>\n",
       "      <td>777.60</td>\n",
       "      <td>45776.34</td>\n",
       "    </tr>\n",
       "    <tr>\n",
       "      <th>2</th>\n",
       "      <td>3</td>\n",
       "      <td>2010</td>\n",
       "      <td>Roth, Martin</td>\n",
       "      <td>Metro Corrections</td>\n",
       "      <td>Corrections Officer</td>\n",
       "      <td>43929.6</td>\n",
       "      <td>43266.09</td>\n",
       "      <td>221.76</td>\n",
       "      <td>0.0</td>\n",
       "      <td>0.00</td>\n",
       "      <td>43487.85</td>\n",
       "    </tr>\n",
       "    <tr>\n",
       "      <th>3</th>\n",
       "      <td>4</td>\n",
       "      <td>2010</td>\n",
       "      <td>Crump, Joseph</td>\n",
       "      <td>Metro Corrections</td>\n",
       "      <td>Corrections Officer</td>\n",
       "      <td>43929.6</td>\n",
       "      <td>43633.92</td>\n",
       "      <td>2653.20</td>\n",
       "      <td>0.0</td>\n",
       "      <td>0.00</td>\n",
       "      <td>46287.12</td>\n",
       "    </tr>\n",
       "    <tr>\n",
       "      <th>4</th>\n",
       "      <td>5</td>\n",
       "      <td>2008</td>\n",
       "      <td>Parr, Walter</td>\n",
       "      <td>Metro Corrections</td>\n",
       "      <td>Corrections Officer</td>\n",
       "      <td>39644.8</td>\n",
       "      <td>38826.68</td>\n",
       "      <td>2870.17</td>\n",
       "      <td>20.8</td>\n",
       "      <td>6.22</td>\n",
       "      <td>41723.87</td>\n",
       "    </tr>\n",
       "  </tbody>\n",
       "</table>\n",
       "</div>"
      ],
      "text/plain": [
       "   SalaryDataID  CalendarYear     EmployeeName         Department  \\\n",
       "0             1          2010  Watson, Stanley  Metro Corrections   \n",
       "1             2          2010    Harris, Larry  Metro Corrections   \n",
       "2             3          2010     Roth, Martin  Metro Corrections   \n",
       "3             4          2010    Crump, Joseph  Metro Corrections   \n",
       "4             5          2008     Parr, Walter  Metro Corrections   \n",
       "\n",
       "                         JobTitle  AnnualRate  RegularRate  OvertimeRate  \\\n",
       "0  Corrections Officer                43929.6     43919.04       1488.96   \n",
       "1  Corrections Officer                40435.2     40901.76       4096.98   \n",
       "2  Corrections Officer                43929.6     43266.09        221.76   \n",
       "3  Corrections Officer                43929.6     43633.92       2653.20   \n",
       "4  Corrections Officer                39644.8     38826.68       2870.17   \n",
       "\n",
       "   IncentiveAllowance   Other  YearToDate  \n",
       "0                 0.0    0.00    45408.00  \n",
       "1                 0.0  777.60    45776.34  \n",
       "2                 0.0    0.00    43487.85  \n",
       "3                 0.0    0.00    46287.12  \n",
       "4                20.8    6.22    41723.87  "
      ]
     },
     "execution_count": 3,
     "metadata": {},
     "output_type": "execute_result"
    }
   ],
   "source": [
    "data = pd.read_csv('SalaryData.csv')\n",
    "data.head()"
   ]
  },
  {
   "cell_type": "code",
   "execution_count": 4,
   "metadata": {},
   "outputs": [
    {
     "data": {
      "text/html": [
       "<div>\n",
       "<style scoped>\n",
       "    .dataframe tbody tr th:only-of-type {\n",
       "        vertical-align: middle;\n",
       "    }\n",
       "\n",
       "    .dataframe tbody tr th {\n",
       "        vertical-align: top;\n",
       "    }\n",
       "\n",
       "    .dataframe thead th {\n",
       "        text-align: right;\n",
       "    }\n",
       "</style>\n",
       "<table border=\"1\" class=\"dataframe\">\n",
       "  <thead>\n",
       "    <tr style=\"text-align: right;\">\n",
       "      <th></th>\n",
       "      <th>CalendarYear</th>\n",
       "      <th>Department</th>\n",
       "      <th>AnnualRate</th>\n",
       "      <th>RegularRate</th>\n",
       "      <th>OvertimeRate</th>\n",
       "      <th>IncentiveAllowance</th>\n",
       "      <th>Other</th>\n",
       "    </tr>\n",
       "  </thead>\n",
       "  <tbody>\n",
       "    <tr>\n",
       "      <th>0</th>\n",
       "      <td>2010</td>\n",
       "      <td>Metro Corrections</td>\n",
       "      <td>43929.6</td>\n",
       "      <td>43919.04</td>\n",
       "      <td>1488.96</td>\n",
       "      <td>0.0</td>\n",
       "      <td>0.00</td>\n",
       "    </tr>\n",
       "    <tr>\n",
       "      <th>1</th>\n",
       "      <td>2010</td>\n",
       "      <td>Metro Corrections</td>\n",
       "      <td>40435.2</td>\n",
       "      <td>40901.76</td>\n",
       "      <td>4096.98</td>\n",
       "      <td>0.0</td>\n",
       "      <td>777.60</td>\n",
       "    </tr>\n",
       "    <tr>\n",
       "      <th>2</th>\n",
       "      <td>2010</td>\n",
       "      <td>Metro Corrections</td>\n",
       "      <td>43929.6</td>\n",
       "      <td>43266.09</td>\n",
       "      <td>221.76</td>\n",
       "      <td>0.0</td>\n",
       "      <td>0.00</td>\n",
       "    </tr>\n",
       "    <tr>\n",
       "      <th>3</th>\n",
       "      <td>2010</td>\n",
       "      <td>Metro Corrections</td>\n",
       "      <td>43929.6</td>\n",
       "      <td>43633.92</td>\n",
       "      <td>2653.20</td>\n",
       "      <td>0.0</td>\n",
       "      <td>0.00</td>\n",
       "    </tr>\n",
       "    <tr>\n",
       "      <th>4</th>\n",
       "      <td>2008</td>\n",
       "      <td>Metro Corrections</td>\n",
       "      <td>39644.8</td>\n",
       "      <td>38826.68</td>\n",
       "      <td>2870.17</td>\n",
       "      <td>20.8</td>\n",
       "      <td>6.22</td>\n",
       "    </tr>\n",
       "  </tbody>\n",
       "</table>\n",
       "</div>"
      ],
      "text/plain": [
       "   CalendarYear         Department  AnnualRate  RegularRate  OvertimeRate  \\\n",
       "0          2010  Metro Corrections     43929.6     43919.04       1488.96   \n",
       "1          2010  Metro Corrections     40435.2     40901.76       4096.98   \n",
       "2          2010  Metro Corrections     43929.6     43266.09        221.76   \n",
       "3          2010  Metro Corrections     43929.6     43633.92       2653.20   \n",
       "4          2008  Metro Corrections     39644.8     38826.68       2870.17   \n",
       "\n",
       "   IncentiveAllowance   Other  \n",
       "0                 0.0    0.00  \n",
       "1                 0.0  777.60  \n",
       "2                 0.0    0.00  \n",
       "3                 0.0    0.00  \n",
       "4                20.8    6.22  "
      ]
     },
     "execution_count": 4,
     "metadata": {},
     "output_type": "execute_result"
    }
   ],
   "source": [
    "data= data.drop(columns = ['SalaryDataID','EmployeeName','YearToDate','JobTitle'])\n",
    "data.head()"
   ]
  },
  {
   "cell_type": "code",
   "execution_count": 5,
   "metadata": {},
   "outputs": [],
   "source": [
    "data['IncentiveAllowance'] = data['IncentiveAllowance'].replace(0,data['IncentiveAllowance'].mode())\n",
    "data['Other'] = data['Other'].replace(0,data['Other'].mode())"
   ]
  },
  {
   "cell_type": "code",
   "execution_count": 6,
   "metadata": {},
   "outputs": [
    {
     "data": {
      "text/html": [
       "<div>\n",
       "<style scoped>\n",
       "    .dataframe tbody tr th:only-of-type {\n",
       "        vertical-align: middle;\n",
       "    }\n",
       "\n",
       "    .dataframe tbody tr th {\n",
       "        vertical-align: top;\n",
       "    }\n",
       "\n",
       "    .dataframe thead th {\n",
       "        text-align: right;\n",
       "    }\n",
       "</style>\n",
       "<table border=\"1\" class=\"dataframe\">\n",
       "  <thead>\n",
       "    <tr style=\"text-align: right;\">\n",
       "      <th></th>\n",
       "      <th>CalendarYear</th>\n",
       "      <th>Department</th>\n",
       "      <th>AnnualRate</th>\n",
       "      <th>RegularRate</th>\n",
       "      <th>OvertimeRate</th>\n",
       "      <th>IncentiveAllowance</th>\n",
       "      <th>Other</th>\n",
       "    </tr>\n",
       "  </thead>\n",
       "  <tbody>\n",
       "    <tr>\n",
       "      <th>0</th>\n",
       "      <td>2010</td>\n",
       "      <td>Metro Corrections</td>\n",
       "      <td>43929.6</td>\n",
       "      <td>43919.04</td>\n",
       "      <td>1488.96</td>\n",
       "      <td>0.0</td>\n",
       "      <td>0.00</td>\n",
       "    </tr>\n",
       "    <tr>\n",
       "      <th>1</th>\n",
       "      <td>2010</td>\n",
       "      <td>Metro Corrections</td>\n",
       "      <td>40435.2</td>\n",
       "      <td>40901.76</td>\n",
       "      <td>4096.98</td>\n",
       "      <td>0.0</td>\n",
       "      <td>777.60</td>\n",
       "    </tr>\n",
       "    <tr>\n",
       "      <th>2</th>\n",
       "      <td>2010</td>\n",
       "      <td>Metro Corrections</td>\n",
       "      <td>43929.6</td>\n",
       "      <td>43266.09</td>\n",
       "      <td>221.76</td>\n",
       "      <td>0.0</td>\n",
       "      <td>0.00</td>\n",
       "    </tr>\n",
       "    <tr>\n",
       "      <th>3</th>\n",
       "      <td>2010</td>\n",
       "      <td>Metro Corrections</td>\n",
       "      <td>43929.6</td>\n",
       "      <td>43633.92</td>\n",
       "      <td>2653.20</td>\n",
       "      <td>0.0</td>\n",
       "      <td>0.00</td>\n",
       "    </tr>\n",
       "    <tr>\n",
       "      <th>4</th>\n",
       "      <td>2008</td>\n",
       "      <td>Metro Corrections</td>\n",
       "      <td>39644.8</td>\n",
       "      <td>38826.68</td>\n",
       "      <td>2870.17</td>\n",
       "      <td>20.8</td>\n",
       "      <td>6.22</td>\n",
       "    </tr>\n",
       "  </tbody>\n",
       "</table>\n",
       "</div>"
      ],
      "text/plain": [
       "   CalendarYear         Department  AnnualRate  RegularRate  OvertimeRate  \\\n",
       "0          2010  Metro Corrections     43929.6     43919.04       1488.96   \n",
       "1          2010  Metro Corrections     40435.2     40901.76       4096.98   \n",
       "2          2010  Metro Corrections     43929.6     43266.09        221.76   \n",
       "3          2010  Metro Corrections     43929.6     43633.92       2653.20   \n",
       "4          2008  Metro Corrections     39644.8     38826.68       2870.17   \n",
       "\n",
       "   IncentiveAllowance   Other  \n",
       "0                 0.0    0.00  \n",
       "1                 0.0  777.60  \n",
       "2                 0.0    0.00  \n",
       "3                 0.0    0.00  \n",
       "4                20.8    6.22  "
      ]
     },
     "execution_count": 6,
     "metadata": {},
     "output_type": "execute_result"
    }
   ],
   "source": [
    "data.head()"
   ]
  },
  {
   "cell_type": "code",
   "execution_count": 7,
   "metadata": {},
   "outputs": [
    {
     "data": {
      "text/html": [
       "<div>\n",
       "<style scoped>\n",
       "    .dataframe tbody tr th:only-of-type {\n",
       "        vertical-align: middle;\n",
       "    }\n",
       "\n",
       "    .dataframe tbody tr th {\n",
       "        vertical-align: top;\n",
       "    }\n",
       "\n",
       "    .dataframe thead th {\n",
       "        text-align: right;\n",
       "    }\n",
       "</style>\n",
       "<table border=\"1\" class=\"dataframe\">\n",
       "  <thead>\n",
       "    <tr style=\"text-align: right;\">\n",
       "      <th></th>\n",
       "      <th>CalendarYear</th>\n",
       "      <th>AnnualRate</th>\n",
       "      <th>RegularRate</th>\n",
       "      <th>OvertimeRate</th>\n",
       "      <th>IncentiveAllowance</th>\n",
       "      <th>Other</th>\n",
       "    </tr>\n",
       "  </thead>\n",
       "  <tbody>\n",
       "    <tr>\n",
       "      <th>count</th>\n",
       "      <td>99028.000000</td>\n",
       "      <td>99028.000000</td>\n",
       "      <td>99028.000000</td>\n",
       "      <td>99028.000000</td>\n",
       "      <td>99028.000000</td>\n",
       "      <td>99028.000000</td>\n",
       "    </tr>\n",
       "    <tr>\n",
       "      <th>mean</th>\n",
       "      <td>2014.270206</td>\n",
       "      <td>43000.219898</td>\n",
       "      <td>34073.805894</td>\n",
       "      <td>3676.481158</td>\n",
       "      <td>1859.266058</td>\n",
       "      <td>971.432717</td>\n",
       "    </tr>\n",
       "    <tr>\n",
       "      <th>std</th>\n",
       "      <td>3.983615</td>\n",
       "      <td>18355.225934</td>\n",
       "      <td>21745.492272</td>\n",
       "      <td>7137.482594</td>\n",
       "      <td>3267.240780</td>\n",
       "      <td>4256.380439</td>\n",
       "    </tr>\n",
       "    <tr>\n",
       "      <th>min</th>\n",
       "      <td>2008.000000</td>\n",
       "      <td>1300.000000</td>\n",
       "      <td>-542.100000</td>\n",
       "      <td>-282.600000</td>\n",
       "      <td>-207.150000</td>\n",
       "      <td>-28699.390000</td>\n",
       "    </tr>\n",
       "    <tr>\n",
       "      <th>25%</th>\n",
       "      <td>2011.000000</td>\n",
       "      <td>32822.400000</td>\n",
       "      <td>14923.390000</td>\n",
       "      <td>0.000000</td>\n",
       "      <td>0.000000</td>\n",
       "      <td>0.000000</td>\n",
       "    </tr>\n",
       "    <tr>\n",
       "      <th>50%</th>\n",
       "      <td>2014.000000</td>\n",
       "      <td>43014.400000</td>\n",
       "      <td>36054.400000</td>\n",
       "      <td>389.000000</td>\n",
       "      <td>0.000000</td>\n",
       "      <td>0.000000</td>\n",
       "    </tr>\n",
       "    <tr>\n",
       "      <th>75%</th>\n",
       "      <td>2018.000000</td>\n",
       "      <td>52499.200000</td>\n",
       "      <td>48244.625000</td>\n",
       "      <td>3337.952500</td>\n",
       "      <td>1362.920000</td>\n",
       "      <td>555.600000</td>\n",
       "    </tr>\n",
       "    <tr>\n",
       "      <th>max</th>\n",
       "      <td>2021.000000</td>\n",
       "      <td>216000.200000</td>\n",
       "      <td>184752.180000</td>\n",
       "      <td>129395.540000</td>\n",
       "      <td>33278.640000</td>\n",
       "      <td>92638.750000</td>\n",
       "    </tr>\n",
       "  </tbody>\n",
       "</table>\n",
       "</div>"
      ],
      "text/plain": [
       "       CalendarYear     AnnualRate    RegularRate   OvertimeRate  \\\n",
       "count  99028.000000   99028.000000   99028.000000   99028.000000   \n",
       "mean    2014.270206   43000.219898   34073.805894    3676.481158   \n",
       "std        3.983615   18355.225934   21745.492272    7137.482594   \n",
       "min     2008.000000    1300.000000    -542.100000    -282.600000   \n",
       "25%     2011.000000   32822.400000   14923.390000       0.000000   \n",
       "50%     2014.000000   43014.400000   36054.400000     389.000000   \n",
       "75%     2018.000000   52499.200000   48244.625000    3337.952500   \n",
       "max     2021.000000  216000.200000  184752.180000  129395.540000   \n",
       "\n",
       "       IncentiveAllowance         Other  \n",
       "count        99028.000000  99028.000000  \n",
       "mean          1859.266058    971.432717  \n",
       "std           3267.240780   4256.380439  \n",
       "min           -207.150000 -28699.390000  \n",
       "25%              0.000000      0.000000  \n",
       "50%              0.000000      0.000000  \n",
       "75%           1362.920000    555.600000  \n",
       "max          33278.640000  92638.750000  "
      ]
     },
     "execution_count": 7,
     "metadata": {},
     "output_type": "execute_result"
    }
   ],
   "source": [
    "data.describe()"
   ]
  },
  {
   "cell_type": "code",
   "execution_count": 8,
   "metadata": {},
   "outputs": [
    {
     "data": {
      "text/html": [
       "<div>\n",
       "<style scoped>\n",
       "    .dataframe tbody tr th:only-of-type {\n",
       "        vertical-align: middle;\n",
       "    }\n",
       "\n",
       "    .dataframe tbody tr th {\n",
       "        vertical-align: top;\n",
       "    }\n",
       "\n",
       "    .dataframe thead th {\n",
       "        text-align: right;\n",
       "    }\n",
       "</style>\n",
       "<table border=\"1\" class=\"dataframe\">\n",
       "  <thead>\n",
       "    <tr style=\"text-align: right;\">\n",
       "      <th></th>\n",
       "      <th>CalendarYear</th>\n",
       "      <th>Department</th>\n",
       "      <th>AnnualRate</th>\n",
       "      <th>RegularRate</th>\n",
       "      <th>OvertimeRate</th>\n",
       "      <th>IncentiveAllowance</th>\n",
       "      <th>Other</th>\n",
       "      <th>Salary</th>\n",
       "    </tr>\n",
       "  </thead>\n",
       "  <tbody>\n",
       "    <tr>\n",
       "      <th>0</th>\n",
       "      <td>2010</td>\n",
       "      <td>27</td>\n",
       "      <td>43929.6</td>\n",
       "      <td>43919.04</td>\n",
       "      <td>1488.96</td>\n",
       "      <td>0.0</td>\n",
       "      <td>0.00</td>\n",
       "      <td>45408.00</td>\n",
       "    </tr>\n",
       "    <tr>\n",
       "      <th>1</th>\n",
       "      <td>2010</td>\n",
       "      <td>27</td>\n",
       "      <td>40435.2</td>\n",
       "      <td>40901.76</td>\n",
       "      <td>4096.98</td>\n",
       "      <td>0.0</td>\n",
       "      <td>777.60</td>\n",
       "      <td>45776.34</td>\n",
       "    </tr>\n",
       "    <tr>\n",
       "      <th>2</th>\n",
       "      <td>2010</td>\n",
       "      <td>27</td>\n",
       "      <td>43929.6</td>\n",
       "      <td>43266.09</td>\n",
       "      <td>221.76</td>\n",
       "      <td>0.0</td>\n",
       "      <td>0.00</td>\n",
       "      <td>43487.85</td>\n",
       "    </tr>\n",
       "    <tr>\n",
       "      <th>3</th>\n",
       "      <td>2010</td>\n",
       "      <td>27</td>\n",
       "      <td>43929.6</td>\n",
       "      <td>43633.92</td>\n",
       "      <td>2653.20</td>\n",
       "      <td>0.0</td>\n",
       "      <td>0.00</td>\n",
       "      <td>46287.12</td>\n",
       "    </tr>\n",
       "    <tr>\n",
       "      <th>4</th>\n",
       "      <td>2008</td>\n",
       "      <td>27</td>\n",
       "      <td>39644.8</td>\n",
       "      <td>38826.68</td>\n",
       "      <td>2870.17</td>\n",
       "      <td>20.8</td>\n",
       "      <td>6.22</td>\n",
       "      <td>41723.87</td>\n",
       "    </tr>\n",
       "    <tr>\n",
       "      <th>...</th>\n",
       "      <td>...</td>\n",
       "      <td>...</td>\n",
       "      <td>...</td>\n",
       "      <td>...</td>\n",
       "      <td>...</td>\n",
       "      <td>...</td>\n",
       "      <td>...</td>\n",
       "      <td>...</td>\n",
       "    </tr>\n",
       "    <tr>\n",
       "      <th>99023</th>\n",
       "      <td>2015</td>\n",
       "      <td>27</td>\n",
       "      <td>39748.8</td>\n",
       "      <td>36147.10</td>\n",
       "      <td>14318.22</td>\n",
       "      <td>0.0</td>\n",
       "      <td>0.00</td>\n",
       "      <td>50465.32</td>\n",
       "    </tr>\n",
       "    <tr>\n",
       "      <th>99024</th>\n",
       "      <td>2015</td>\n",
       "      <td>27</td>\n",
       "      <td>40268.8</td>\n",
       "      <td>41033.52</td>\n",
       "      <td>4915.02</td>\n",
       "      <td>0.0</td>\n",
       "      <td>48.00</td>\n",
       "      <td>45996.54</td>\n",
       "    </tr>\n",
       "    <tr>\n",
       "      <th>99025</th>\n",
       "      <td>2015</td>\n",
       "      <td>22</td>\n",
       "      <td>40268.8</td>\n",
       "      <td>7040.46</td>\n",
       "      <td>1397.79</td>\n",
       "      <td>0.0</td>\n",
       "      <td>637.33</td>\n",
       "      <td>9075.58</td>\n",
       "    </tr>\n",
       "    <tr>\n",
       "      <th>99026</th>\n",
       "      <td>2015</td>\n",
       "      <td>27</td>\n",
       "      <td>39748.8</td>\n",
       "      <td>39436.63</td>\n",
       "      <td>3564.79</td>\n",
       "      <td>0.0</td>\n",
       "      <td>255.00</td>\n",
       "      <td>43256.42</td>\n",
       "    </tr>\n",
       "    <tr>\n",
       "      <th>99027</th>\n",
       "      <td>2015</td>\n",
       "      <td>27</td>\n",
       "      <td>38563.2</td>\n",
       "      <td>37844.21</td>\n",
       "      <td>7460.70</td>\n",
       "      <td>0.0</td>\n",
       "      <td>0.00</td>\n",
       "      <td>45304.91</td>\n",
       "    </tr>\n",
       "  </tbody>\n",
       "</table>\n",
       "<p>99028 rows × 8 columns</p>\n",
       "</div>"
      ],
      "text/plain": [
       "       CalendarYear  Department  AnnualRate  RegularRate  OvertimeRate  \\\n",
       "0              2010          27     43929.6     43919.04       1488.96   \n",
       "1              2010          27     40435.2     40901.76       4096.98   \n",
       "2              2010          27     43929.6     43266.09        221.76   \n",
       "3              2010          27     43929.6     43633.92       2653.20   \n",
       "4              2008          27     39644.8     38826.68       2870.17   \n",
       "...             ...         ...         ...          ...           ...   \n",
       "99023          2015          27     39748.8     36147.10      14318.22   \n",
       "99024          2015          27     40268.8     41033.52       4915.02   \n",
       "99025          2015          22     40268.8      7040.46       1397.79   \n",
       "99026          2015          27     39748.8     39436.63       3564.79   \n",
       "99027          2015          27     38563.2     37844.21       7460.70   \n",
       "\n",
       "       IncentiveAllowance   Other    Salary  \n",
       "0                     0.0    0.00  45408.00  \n",
       "1                     0.0  777.60  45776.34  \n",
       "2                     0.0    0.00  43487.85  \n",
       "3                     0.0    0.00  46287.12  \n",
       "4                    20.8    6.22  41723.87  \n",
       "...                   ...     ...       ...  \n",
       "99023                 0.0    0.00  50465.32  \n",
       "99024                 0.0   48.00  45996.54  \n",
       "99025                 0.0  637.33   9075.58  \n",
       "99026                 0.0  255.00  43256.42  \n",
       "99027                 0.0    0.00  45304.91  \n",
       "\n",
       "[99028 rows x 8 columns]"
      ]
     },
     "execution_count": 8,
     "metadata": {},
     "output_type": "execute_result"
    }
   ],
   "source": [
    "label_encoder = preprocessing.LabelEncoder()\n",
    "data['Department']= label_encoder.fit_transform(data['Department'])\n",
    "data['Salary'] = data['RegularRate']+data['OvertimeRate']+data['IncentiveAllowance']+data['Other']\n",
    "data"
   ]
  },
  {
   "cell_type": "code",
   "execution_count": 9,
   "metadata": {},
   "outputs": [
    {
     "data": {
      "text/html": [
       "<div>\n",
       "<style scoped>\n",
       "    .dataframe tbody tr th:only-of-type {\n",
       "        vertical-align: middle;\n",
       "    }\n",
       "\n",
       "    .dataframe tbody tr th {\n",
       "        vertical-align: top;\n",
       "    }\n",
       "\n",
       "    .dataframe thead th {\n",
       "        text-align: right;\n",
       "    }\n",
       "</style>\n",
       "<table border=\"1\" class=\"dataframe\">\n",
       "  <thead>\n",
       "    <tr style=\"text-align: right;\">\n",
       "      <th></th>\n",
       "      <th>CalendarYear</th>\n",
       "      <th>Department</th>\n",
       "      <th>AnnualRate</th>\n",
       "      <th>RegularRate</th>\n",
       "      <th>OvertimeRate</th>\n",
       "      <th>IncentiveAllowance</th>\n",
       "      <th>Other</th>\n",
       "      <th>Salary</th>\n",
       "      <th>TotalExperience</th>\n",
       "    </tr>\n",
       "  </thead>\n",
       "  <tbody>\n",
       "    <tr>\n",
       "      <th>0</th>\n",
       "      <td>2010</td>\n",
       "      <td>27</td>\n",
       "      <td>43929.6</td>\n",
       "      <td>43919.04</td>\n",
       "      <td>1488.96</td>\n",
       "      <td>0.0</td>\n",
       "      <td>0.00</td>\n",
       "      <td>45408.00</td>\n",
       "      <td>11</td>\n",
       "    </tr>\n",
       "    <tr>\n",
       "      <th>1</th>\n",
       "      <td>2010</td>\n",
       "      <td>27</td>\n",
       "      <td>40435.2</td>\n",
       "      <td>40901.76</td>\n",
       "      <td>4096.98</td>\n",
       "      <td>0.0</td>\n",
       "      <td>777.60</td>\n",
       "      <td>45776.34</td>\n",
       "      <td>11</td>\n",
       "    </tr>\n",
       "    <tr>\n",
       "      <th>2</th>\n",
       "      <td>2010</td>\n",
       "      <td>27</td>\n",
       "      <td>43929.6</td>\n",
       "      <td>43266.09</td>\n",
       "      <td>221.76</td>\n",
       "      <td>0.0</td>\n",
       "      <td>0.00</td>\n",
       "      <td>43487.85</td>\n",
       "      <td>11</td>\n",
       "    </tr>\n",
       "    <tr>\n",
       "      <th>3</th>\n",
       "      <td>2010</td>\n",
       "      <td>27</td>\n",
       "      <td>43929.6</td>\n",
       "      <td>43633.92</td>\n",
       "      <td>2653.20</td>\n",
       "      <td>0.0</td>\n",
       "      <td>0.00</td>\n",
       "      <td>46287.12</td>\n",
       "      <td>11</td>\n",
       "    </tr>\n",
       "    <tr>\n",
       "      <th>4</th>\n",
       "      <td>2008</td>\n",
       "      <td>27</td>\n",
       "      <td>39644.8</td>\n",
       "      <td>38826.68</td>\n",
       "      <td>2870.17</td>\n",
       "      <td>20.8</td>\n",
       "      <td>6.22</td>\n",
       "      <td>41723.87</td>\n",
       "      <td>13</td>\n",
       "    </tr>\n",
       "    <tr>\n",
       "      <th>...</th>\n",
       "      <td>...</td>\n",
       "      <td>...</td>\n",
       "      <td>...</td>\n",
       "      <td>...</td>\n",
       "      <td>...</td>\n",
       "      <td>...</td>\n",
       "      <td>...</td>\n",
       "      <td>...</td>\n",
       "      <td>...</td>\n",
       "    </tr>\n",
       "    <tr>\n",
       "      <th>99023</th>\n",
       "      <td>2015</td>\n",
       "      <td>27</td>\n",
       "      <td>39748.8</td>\n",
       "      <td>36147.10</td>\n",
       "      <td>14318.22</td>\n",
       "      <td>0.0</td>\n",
       "      <td>0.00</td>\n",
       "      <td>50465.32</td>\n",
       "      <td>6</td>\n",
       "    </tr>\n",
       "    <tr>\n",
       "      <th>99024</th>\n",
       "      <td>2015</td>\n",
       "      <td>27</td>\n",
       "      <td>40268.8</td>\n",
       "      <td>41033.52</td>\n",
       "      <td>4915.02</td>\n",
       "      <td>0.0</td>\n",
       "      <td>48.00</td>\n",
       "      <td>45996.54</td>\n",
       "      <td>6</td>\n",
       "    </tr>\n",
       "    <tr>\n",
       "      <th>99025</th>\n",
       "      <td>2015</td>\n",
       "      <td>22</td>\n",
       "      <td>40268.8</td>\n",
       "      <td>7040.46</td>\n",
       "      <td>1397.79</td>\n",
       "      <td>0.0</td>\n",
       "      <td>637.33</td>\n",
       "      <td>9075.58</td>\n",
       "      <td>6</td>\n",
       "    </tr>\n",
       "    <tr>\n",
       "      <th>99026</th>\n",
       "      <td>2015</td>\n",
       "      <td>27</td>\n",
       "      <td>39748.8</td>\n",
       "      <td>39436.63</td>\n",
       "      <td>3564.79</td>\n",
       "      <td>0.0</td>\n",
       "      <td>255.00</td>\n",
       "      <td>43256.42</td>\n",
       "      <td>6</td>\n",
       "    </tr>\n",
       "    <tr>\n",
       "      <th>99027</th>\n",
       "      <td>2015</td>\n",
       "      <td>27</td>\n",
       "      <td>38563.2</td>\n",
       "      <td>37844.21</td>\n",
       "      <td>7460.70</td>\n",
       "      <td>0.0</td>\n",
       "      <td>0.00</td>\n",
       "      <td>45304.91</td>\n",
       "      <td>6</td>\n",
       "    </tr>\n",
       "  </tbody>\n",
       "</table>\n",
       "<p>99028 rows × 9 columns</p>\n",
       "</div>"
      ],
      "text/plain": [
       "       CalendarYear  Department  AnnualRate  RegularRate  OvertimeRate  \\\n",
       "0              2010          27     43929.6     43919.04       1488.96   \n",
       "1              2010          27     40435.2     40901.76       4096.98   \n",
       "2              2010          27     43929.6     43266.09        221.76   \n",
       "3              2010          27     43929.6     43633.92       2653.20   \n",
       "4              2008          27     39644.8     38826.68       2870.17   \n",
       "...             ...         ...         ...          ...           ...   \n",
       "99023          2015          27     39748.8     36147.10      14318.22   \n",
       "99024          2015          27     40268.8     41033.52       4915.02   \n",
       "99025          2015          22     40268.8      7040.46       1397.79   \n",
       "99026          2015          27     39748.8     39436.63       3564.79   \n",
       "99027          2015          27     38563.2     37844.21       7460.70   \n",
       "\n",
       "       IncentiveAllowance   Other    Salary  TotalExperience  \n",
       "0                     0.0    0.00  45408.00               11  \n",
       "1                     0.0  777.60  45776.34               11  \n",
       "2                     0.0    0.00  43487.85               11  \n",
       "3                     0.0    0.00  46287.12               11  \n",
       "4                    20.8    6.22  41723.87               13  \n",
       "...                   ...     ...       ...              ...  \n",
       "99023                 0.0    0.00  50465.32                6  \n",
       "99024                 0.0   48.00  45996.54                6  \n",
       "99025                 0.0  637.33   9075.58                6  \n",
       "99026                 0.0  255.00  43256.42                6  \n",
       "99027                 0.0    0.00  45304.91                6  \n",
       "\n",
       "[99028 rows x 9 columns]"
      ]
     },
     "execution_count": 9,
     "metadata": {},
     "output_type": "execute_result"
    }
   ],
   "source": [
    "dt = datetime.datetime.today()\n",
    "data['TotalExperience'] = dt.year- data['CalendarYear']\n",
    "data"
   ]
  },
  {
   "cell_type": "code",
   "execution_count": 10,
   "metadata": {},
   "outputs": [
    {
     "data": {
      "text/plain": [
       "array([[<matplotlib.axes._subplots.AxesSubplot object at 0x00000190746A5B20>,\n",
       "        <matplotlib.axes._subplots.AxesSubplot object at 0x000001907484EFD0>,\n",
       "        <matplotlib.axes._subplots.AxesSubplot object at 0x0000019074887460>],\n",
       "       [<matplotlib.axes._subplots.AxesSubplot object at 0x0000019075E7F8E0>,\n",
       "        <matplotlib.axes._subplots.AxesSubplot object at 0x0000019075EABD30>,\n",
       "        <matplotlib.axes._subplots.AxesSubplot object at 0x0000019075EE5100>],\n",
       "       [<matplotlib.axes._subplots.AxesSubplot object at 0x0000019075EE51F0>,\n",
       "        <matplotlib.axes._subplots.AxesSubplot object at 0x0000019075F106A0>,\n",
       "        <matplotlib.axes._subplots.AxesSubplot object at 0x0000019075F6AEB0>]],\n",
       "      dtype=object)"
      ]
     },
     "execution_count": 10,
     "metadata": {},
     "output_type": "execute_result"
    },
    {
     "data": {
      "image/png": "[encoded data removed]",
      "text/plain": [
       "<Figure size 1440x1440 with 9 Axes>"
      ]
     },
     "metadata": {},
     "output_type": "display_data"
    }
   ],
   "source": [
    "data.hist(color='blue',alpha=0.2,figsize=(20,20))"
   ]
  },
  {
   "cell_type": "code",
   "execution_count": 11,
   "metadata": {},
   "outputs": [
    {
     "data": {
      "text/html": [
       "<div>\n",
       "<style scoped>\n",
       "    .dataframe tbody tr th:only-of-type {\n",
       "        vertical-align: middle;\n",
       "    }\n",
       "\n",
       "    .dataframe tbody tr th {\n",
       "        vertical-align: top;\n",
       "    }\n",
       "\n",
       "    .dataframe thead th {\n",
       "        text-align: right;\n",
       "    }\n",
       "</style>\n",
       "<table border=\"1\" class=\"dataframe\">\n",
       "  <thead>\n",
       "    <tr style=\"text-align: right;\">\n",
       "      <th></th>\n",
       "      <th>CalendarYear</th>\n",
       "      <th>Department</th>\n",
       "      <th>AnnualRate</th>\n",
       "      <th>RegularRate</th>\n",
       "      <th>OvertimeRate</th>\n",
       "      <th>IncentiveAllowance</th>\n",
       "      <th>Other</th>\n",
       "      <th>Salary</th>\n",
       "      <th>TotalExperience</th>\n",
       "    </tr>\n",
       "  </thead>\n",
       "  <tbody>\n",
       "    <tr>\n",
       "      <th>count</th>\n",
       "      <td>99028.000000</td>\n",
       "      <td>99028.000000</td>\n",
       "      <td>99028.000000</td>\n",
       "      <td>99028.000000</td>\n",
       "      <td>99028.000000</td>\n",
       "      <td>99028.000000</td>\n",
       "      <td>99028.000000</td>\n",
       "      <td>99028.000000</td>\n",
       "      <td>99028.000000</td>\n",
       "    </tr>\n",
       "    <tr>\n",
       "      <th>mean</th>\n",
       "      <td>2014.270206</td>\n",
       "      <td>24.654906</td>\n",
       "      <td>43000.219898</td>\n",
       "      <td>34073.805894</td>\n",
       "      <td>3676.481158</td>\n",
       "      <td>1859.266058</td>\n",
       "      <td>971.432717</td>\n",
       "      <td>40580.985827</td>\n",
       "      <td>6.729794</td>\n",
       "    </tr>\n",
       "    <tr>\n",
       "      <th>std</th>\n",
       "      <td>3.983615</td>\n",
       "      <td>9.611210</td>\n",
       "      <td>18355.225934</td>\n",
       "      <td>21745.492272</td>\n",
       "      <td>7137.482594</td>\n",
       "      <td>3267.240780</td>\n",
       "      <td>4256.380439</td>\n",
       "      <td>26454.224123</td>\n",
       "      <td>3.983615</td>\n",
       "    </tr>\n",
       "    <tr>\n",
       "      <th>min</th>\n",
       "      <td>2008.000000</td>\n",
       "      <td>0.000000</td>\n",
       "      <td>1300.000000</td>\n",
       "      <td>-542.100000</td>\n",
       "      <td>-282.600000</td>\n",
       "      <td>-207.150000</td>\n",
       "      <td>-28699.390000</td>\n",
       "      <td>-28699.390000</td>\n",
       "      <td>0.000000</td>\n",
       "    </tr>\n",
       "    <tr>\n",
       "      <th>25%</th>\n",
       "      <td>2011.000000</td>\n",
       "      <td>21.000000</td>\n",
       "      <td>32822.400000</td>\n",
       "      <td>14923.390000</td>\n",
       "      <td>0.000000</td>\n",
       "      <td>0.000000</td>\n",
       "      <td>0.000000</td>\n",
       "      <td>17090.235000</td>\n",
       "      <td>3.000000</td>\n",
       "    </tr>\n",
       "    <tr>\n",
       "      <th>50%</th>\n",
       "      <td>2014.000000</td>\n",
       "      <td>23.000000</td>\n",
       "      <td>43014.400000</td>\n",
       "      <td>36054.400000</td>\n",
       "      <td>389.000000</td>\n",
       "      <td>0.000000</td>\n",
       "      <td>0.000000</td>\n",
       "      <td>41523.020000</td>\n",
       "      <td>7.000000</td>\n",
       "    </tr>\n",
       "    <tr>\n",
       "      <th>75%</th>\n",
       "      <td>2018.000000</td>\n",
       "      <td>34.000000</td>\n",
       "      <td>52499.200000</td>\n",
       "      <td>48244.625000</td>\n",
       "      <td>3337.952500</td>\n",
       "      <td>1362.920000</td>\n",
       "      <td>555.600000</td>\n",
       "      <td>59009.397500</td>\n",
       "      <td>10.000000</td>\n",
       "    </tr>\n",
       "    <tr>\n",
       "      <th>max</th>\n",
       "      <td>2021.000000</td>\n",
       "      <td>45.000000</td>\n",
       "      <td>216000.200000</td>\n",
       "      <td>184752.180000</td>\n",
       "      <td>129395.540000</td>\n",
       "      <td>33278.640000</td>\n",
       "      <td>92638.750000</td>\n",
       "      <td>218157.880000</td>\n",
       "      <td>13.000000</td>\n",
       "    </tr>\n",
       "  </tbody>\n",
       "</table>\n",
       "</div>"
      ],
      "text/plain": [
       "       CalendarYear    Department     AnnualRate    RegularRate  \\\n",
       "count  99028.000000  99028.000000   99028.000000   99028.000000   \n",
       "mean    2014.270206     24.654906   43000.219898   34073.805894   \n",
       "std        3.983615      9.611210   18355.225934   21745.492272   \n",
       "min     2008.000000      0.000000    1300.000000    -542.100000   \n",
       "25%     2011.000000     21.000000   32822.400000   14923.390000   \n",
       "50%     2014.000000     23.000000   43014.400000   36054.400000   \n",
       "75%     2018.000000     34.000000   52499.200000   48244.625000   \n",
       "max     2021.000000     45.000000  216000.200000  184752.180000   \n",
       "\n",
       "        OvertimeRate  IncentiveAllowance         Other         Salary  \\\n",
       "count   99028.000000        99028.000000  99028.000000   99028.000000   \n",
       "mean     3676.481158         1859.266058    971.432717   40580.985827   \n",
       "std      7137.482594         3267.240780   4256.380439   26454.224123   \n",
       "min      -282.600000         -207.150000 -28699.390000  -28699.390000   \n",
       "25%         0.000000            0.000000      0.000000   17090.235000   \n",
       "50%       389.000000            0.000000      0.000000   41523.020000   \n",
       "75%      3337.952500         1362.920000    555.600000   59009.397500   \n",
       "max    129395.540000        33278.640000  92638.750000  218157.880000   \n",
       "\n",
       "       TotalExperience  \n",
       "count     99028.000000  \n",
       "mean          6.729794  \n",
       "std           3.983615  \n",
       "min           0.000000  \n",
       "25%           3.000000  \n",
       "50%           7.000000  \n",
       "75%          10.000000  \n",
       "max          13.000000  "
      ]
     },
     "execution_count": 11,
     "metadata": {},
     "output_type": "execute_result"
    }
   ],
   "source": [
    "data.describe()"
   ]
  },
  {
   "cell_type": "code",
   "execution_count": 12,
   "metadata": {},
   "outputs": [],
   "source": [
    "y = data['Salary']\n",
    "X = data[['TotalExperience','Department']]"
   ]
  },
  {
   "cell_type": "code",
   "execution_count": 13,
   "metadata": {},
   "outputs": [
    {
     "name": "stderr",
     "output_type": "stream",
     "text": [
      "*c* argument looks like a single numeric RGB or RGBA sequence, which should be avoided as value-mapping will have precedence in case its length matches with *x* & *y*.  Please use the *color* keyword-argument or provide a 2-D array with a single row if you intend to specify the same RGB or RGBA value for all points.\n"
     ]
    },
    {
     "data": {
      "text/plain": [
       "<matplotlib.axes._subplots.AxesSubplot at 0x19073bdffa0>"
      ]
     },
     "execution_count": 13,
     "metadata": {},
     "output_type": "execute_result"
    },
    {
     "data": {
      "image/png": "[encoded data removed]",
      "text/plain": [
       "<Figure size 432x288 with 1 Axes>"
      ]
     },
     "metadata": {},
     "output_type": "display_data"
    }
   ],
   "source": [
    "data.plot.scatter(x='TotalExperience',y='Salary')"
   ]
  },
  {
   "cell_type": "code",
   "execution_count": 14,
   "metadata": {},
   "outputs": [],
   "source": [
    "scaler =StandardScaler()\n",
    "\n",
    "X_scaled = scaler.fit_transform(X)"
   ]
  },
  {
   "cell_type": "code",
   "execution_count": 15,
   "metadata": {},
   "outputs": [],
   "source": [
    "x_train,x_test,y_train,y_test = train_test_split(X_scaled,y,test_size = 0.25,random_state=355)"
   ]
  },
  {
   "cell_type": "code",
   "execution_count": 16,
   "metadata": {},
   "outputs": [
    {
     "data": {
      "text/plain": [
       "44931     33516.21\n",
       "79234      3857.61\n",
       "15646     57796.43\n",
       "91875     71474.43\n",
       "65066     34665.60\n",
       "           ...    \n",
       "96511     46966.40\n",
       "26675     55469.41\n",
       "72995    130165.54\n",
       "24053     64110.52\n",
       "19074     63713.30\n",
       "Name: Salary, Length: 74271, dtype: float64"
      ]
     },
     "execution_count": 16,
     "metadata": {},
     "output_type": "execute_result"
    }
   ],
   "source": [
    "y_train"
   ]
  },
  {
   "cell_type": "code",
   "execution_count": 17,
   "metadata": {},
   "outputs": [
    {
     "data": {
      "text/plain": [
       "LinearRegression()"
      ]
     },
     "execution_count": 17,
     "metadata": {},
     "output_type": "execute_result"
    }
   ],
   "source": [
    "regression = LinearRegression()\n",
    "\n",
    "regression.fit(x_train,y_train)"
   ]
  },
  {
   "cell_type": "code",
   "execution_count": 18,
   "metadata": {},
   "outputs": [
    {
     "data": {
      "text/plain": [
       "0.003774689687759736"
      ]
     },
     "execution_count": 18,
     "metadata": {},
     "output_type": "execute_result"
    }
   ],
   "source": [
    "regression.score(x_train,y_train)"
   ]
  },
  {
   "cell_type": "code",
   "execution_count": 19,
   "metadata": {},
   "outputs": [
    {
     "data": {
      "text/plain": [
       "0.0037478618396875607"
      ]
     },
     "execution_count": 19,
     "metadata": {},
     "output_type": "execute_result"
    }
   ],
   "source": [
    "adj_r2(x_train,y_train)"
   ]
  },
  {
   "cell_type": "code",
   "execution_count": 20,
   "metadata": {},
   "outputs": [
    {
     "data": {
      "text/plain": [
       "LassoCV(cv=10, max_iter=100000, normalize=True)"
      ]
     },
     "execution_count": 20,
     "metadata": {},
     "output_type": "execute_result"
    }
   ],
   "source": [
    "lasscv = LassoCV(alphas = None,cv =10, max_iter = 100000, normalize = True)\n",
    "lasscv.fit(x_train, y_train) "
   ]
  },
  {
   "cell_type": "code",
   "execution_count": 21,
   "metadata": {},
   "outputs": [
    {
     "data": {
      "text/plain": [
       "0.0058732430583700295"
      ]
     },
     "execution_count": 21,
     "metadata": {},
     "output_type": "execute_result"
    }
   ],
   "source": [
    "alpha = lasscv.alpha_\n",
    "alpha"
   ]
  },
  {
   "cell_type": "code",
   "execution_count": 22,
   "metadata": {},
   "outputs": [
    {
     "data": {
      "text/plain": [
       "Lasso(alpha=0.0058732430583700295)"
      ]
     },
     "execution_count": 22,
     "metadata": {},
     "output_type": "execute_result"
    }
   ],
   "source": [
    "lasso_reg = Lasso(alpha)\n",
    "lasso_reg.fit(x_train, y_train)"
   ]
  },
  {
   "cell_type": "code",
   "execution_count": 23,
   "metadata": {},
   "outputs": [
    {
     "data": {
      "text/plain": [
       "0.0040473564836359666"
      ]
     },
     "execution_count": 23,
     "metadata": {},
     "output_type": "execute_result"
    }
   ],
   "source": [
    "lasso_reg.score(x_test, y_test)"
   ]
  },
  {
   "cell_type": "code",
   "execution_count": 24,
   "metadata": {},
   "outputs": [
    {
     "data": {
      "text/plain": [
       "RidgeCV(alphas=array([5.119794  , 4.75149659, 0.93329511, 0.2213309 , 1.77150984,\n",
       "       0.31140714, 9.83903235, 7.16913625, 2.71733843, 7.58238552,\n",
       "       1.16247277, 2.45417252, 4.8041425 , 4.91500338, 8.03206691,\n",
       "       0.35135893, 3.84843606, 3.75896416, 1.69546201, 3.76166789,\n",
       "       7.33141248, 0.95054343, 2.64442516, 2.80780515, 2.06407456,\n",
       "       5.32152152, 1.50177912, 9.5075339 , 1.59792171, 5.78969425,\n",
       "       6.44482587, 1.29027426, 7.57498817, 6.05474252, 5.38121371,\n",
       "       0.66633333, 9.54295344, 8.00789451, 2.529527  , 6.53575105,\n",
       "       1.10262443, 8.77519191, 7.54255406, 5.68242366, 3.76483603,\n",
       "       7.8745309 , 9.40739201, 1.51337808, 8.57648339, 7.77164668]),\n",
       "        cv=10, normalize=True)"
      ]
     },
     "execution_count": 24,
     "metadata": {},
     "output_type": "execute_result"
    }
   ],
   "source": [
    "alphas = np.random.uniform(low=0, high=10, size=(50,))\n",
    "ridgecv = RidgeCV(alphas = alphas,cv=10,normalize = True)\n",
    "ridgecv.fit(x_train, y_train)"
   ]
  },
  {
   "cell_type": "code",
   "execution_count": 25,
   "metadata": {},
   "outputs": [
    {
     "data": {
      "text/plain": [
       "0.22133089607005774"
      ]
     },
     "execution_count": 25,
     "metadata": {},
     "output_type": "execute_result"
    }
   ],
   "source": [
    "ridgecv.alpha_"
   ]
  },
  {
   "cell_type": "code",
   "execution_count": 26,
   "metadata": {},
   "outputs": [
    {
     "data": {
      "text/plain": [
       "Ridge(alpha=0.22133089607005774)"
      ]
     },
     "execution_count": 26,
     "metadata": {},
     "output_type": "execute_result"
    }
   ],
   "source": [
    "ridge_model = Ridge(alpha=ridgecv.alpha_)\n",
    "ridge_model.fit(x_train, y_train)"
   ]
  },
  {
   "cell_type": "code",
   "execution_count": 27,
   "metadata": {},
   "outputs": [
    {
     "data": {
      "text/plain": [
       "0.004047359366236458"
      ]
     },
     "execution_count": 27,
     "metadata": {},
     "output_type": "execute_result"
    }
   ],
   "source": [
    "ridge_model.score(x_test, y_test)"
   ]
  },
  {
   "cell_type": "code",
   "execution_count": 28,
   "metadata": {},
   "outputs": [
    {
     "data": {
      "text/plain": [
       "ElasticNetCV(cv=10)"
      ]
     },
     "execution_count": 28,
     "metadata": {},
     "output_type": "execute_result"
    }
   ],
   "source": [
    "elasticCV = ElasticNetCV(alphas = None, cv =10)\n",
    "\n",
    "elasticCV.fit(x_train, y_train)"
   ]
  },
  {
   "cell_type": "code",
   "execution_count": 29,
   "metadata": {},
   "outputs": [
    {
     "data": {
      "text/plain": [
       "3.200500677448093"
      ]
     },
     "execution_count": 29,
     "metadata": {},
     "output_type": "execute_result"
    }
   ],
   "source": [
    "elasticCV.alpha_"
   ]
  },
  {
   "cell_type": "code",
   "execution_count": 30,
   "metadata": {},
   "outputs": [
    {
     "data": {
      "text/plain": [
       "0.5"
      ]
     },
     "execution_count": 30,
     "metadata": {},
     "output_type": "execute_result"
    }
   ],
   "source": [
    "elasticCV.l1_ratio"
   ]
  },
  {
   "cell_type": "code",
   "execution_count": 31,
   "metadata": {},
   "outputs": [
    {
     "data": {
      "text/plain": [
       "ElasticNet(alpha=3.200500677448093)"
      ]
     },
     "execution_count": 31,
     "metadata": {},
     "output_type": "execute_result"
    }
   ],
   "source": [
    "elasticnet_reg = ElasticNet(alpha = elasticCV.alpha_,l1_ratio=0.5)\n",
    "elasticnet_reg.fit(x_train, y_train)"
   ]
  },
  {
   "cell_type": "code",
   "execution_count": 32,
   "metadata": {},
   "outputs": [
    {
     "data": {
      "text/plain": [
       "0.0024464947017761585"
      ]
     },
     "execution_count": 32,
     "metadata": {},
     "output_type": "execute_result"
    }
   ],
   "source": [
    "elasticnet_reg.score(x_test, y_test)"
   ]
  },
  {
   "cell_type": "code",
   "execution_count": 33,
   "metadata": {},
   "outputs": [
    {
     "data": {
      "text/plain": [
       "array([[<matplotlib.axes._subplots.AxesSubplot object at 0x000001907789B3A0>,\n",
       "        <matplotlib.axes._subplots.AxesSubplot object at 0x0000019077704640>,\n",
       "        <matplotlib.axes._subplots.AxesSubplot object at 0x0000019077A5AE50>],\n",
       "       [<matplotlib.axes._subplots.AxesSubplot object at 0x0000019077A92F10>,\n",
       "        <matplotlib.axes._subplots.AxesSubplot object at 0x0000019077AC93A0>,\n",
       "        <matplotlib.axes._subplots.AxesSubplot object at 0x0000019077AF2730>],\n",
       "       [<matplotlib.axes._subplots.AxesSubplot object at 0x0000019077AF2820>,\n",
       "        <matplotlib.axes._subplots.AxesSubplot object at 0x0000019077B1DCD0>,\n",
       "        <matplotlib.axes._subplots.AxesSubplot object at 0x0000019077B84520>]],\n",
       "      dtype=object)"
      ]
     },
     "execution_count": 33,
     "metadata": {},
     "output_type": "execute_result"
    },
    {
     "data": {
      "image/png": "[encoded data removed]",
      "text/plain": [
       "<Figure size 1440x1440 with 9 Axes>"
      ]
     },
     "metadata": {},
     "output_type": "display_data"
    }
   ],
   "source": [
    "data.hist(color='blue',alpha=0.2,figsize=(20,20))"
   ]
  }
 ],
 "metadata": {
  "kernelspec": {
   "display_name": "Python 3",
   "language": "python",
   "name": "python3"
  },
  "language_info": {
   "codemirror_mode": {
    "name": "ipython",
    "version": 3
   },
   "file_extension": ".py",
   "mimetype": "text/x-python",
   "name": "python",
   "nbconvert_exporter": "python",
   "pygments_lexer": "ipython3",
   "version": "3.8.3"
  }
 },
 "nbformat": 4,
 "nbformat_minor": 4
}
